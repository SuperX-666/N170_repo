{
 "cells": [
  {
   "cell_type": "code",
   "execution_count": 1,
   "metadata": {},
   "outputs": [],
   "source": [
    "# 实现交互式图表\n",
    "%matplotlib qt5"
   ]
  },
  {
   "cell_type": "code",
   "execution_count": 2,
   "metadata": {},
   "outputs": [],
   "source": [
    "import os\n",
    "import numpy as np\n",
    "import matplotlib.pyplot as plt\n",
    "import mne"
   ]
  },
  {
   "cell_type": "markdown",
   "metadata": {},
   "source": [
    "# Loading data"
   ]
  },
  {
   "cell_type": "code",
   "execution_count": 3,
   "metadata": {},
   "outputs": [],
   "source": [
    "data_folder = 'raw_data';\n",
    "items = os.listdir(data_folder)#列出目录中的文件名/子文件夹\n",
    "dataList = []\n",
    "for filenames in items:\n",
    "    if filenames.endswith(\".set\"):\n",
    "        dataList.append(filenames)"
   ]
  },
  {
   "cell_type": "code",
   "execution_count": null,
   "metadata": {},
   "outputs": [],
   "source": [
    "# 另一种写法（需要遍历子目录时）：\n",
    "# dataList = []\n",
    "# for parent, dirnames, filenames in os.walk(data_folder):\n",
    "#     for filename in filenames:\n",
    "#         if os.path.splitext(filename)[1] == '.set':\n",
    "#             dataList.append(filename)\n",
    "#     break #若去掉break则可以深层次遍历所有子目录"
   ]
  },
  {
   "cell_type": "code",
   "execution_count": 4,
   "metadata": {},
   "outputs": [],
   "source": [
    "dataFile = dataList[0]"
   ]
  },
  {
   "cell_type": "code",
   "execution_count": 5,
   "metadata": {
    "scrolled": true
   },
   "outputs": [
    {
     "name": "stdout",
     "output_type": "stream",
     "text": [
      "Reading C:\\Users\\Surface\\Desktop\\MNE\\My_scripts\\N170_data\\raw_data\\n170_data.fdt\n"
     ]
    },
    {
     "name": "stderr",
     "output_type": "stream",
     "text": [
      "<ipython-input-5-2e29decf5359>:2: RuntimeWarning: Limited 1 annotation(s) that were expanding outside the data range.\n",
      "  data = mne.io.read_raw_eeglab(data_file, eog = 'auto') #另一个mne.read_epochs_eeglab()读取已经分段的数据\n",
      "<ipython-input-5-2e29decf5359>:2: RuntimeWarning: The data contains 'boundary' events, indicating data discontinuities. Be cautious of filtering and epoching around these events.\n",
      "  data = mne.io.read_raw_eeglab(data_file, eog = 'auto') #另一个mne.read_epochs_eeglab()读取已经分段的数据\n"
     ]
    }
   ],
   "source": [
    "data_file = os.path.join(data_folder,dataFile)\n",
    "data = mne.io.read_raw_eeglab(data_file, eog = 'auto') #另一个mne.read_epochs_eeglab()读取已经分段的数据\n",
    "# 当然也可以后面更改通道类型\n",
    "# data.set_channel_types({'EOG': 'eog'})"
   ]
  },
  {
   "cell_type": "markdown",
   "metadata": {},
   "source": [
    "# Browsing data"
   ]
  },
  {
   "cell_type": "code",
   "execution_count": 6,
   "metadata": {},
   "outputs": [
    {
     "name": "stdout",
     "output_type": "stream",
     "text": [
      "Channels marked as bad: none\n"
     ]
    }
   ],
   "source": [
    "fig = data.plot(duration=5, n_channels=len(data.ch_names),scalings=dict(eeg=80e-6))#scaling 80uV\n",
    "# fig.canvas.key_press_event('a')\n",
    "# 通过添加bad annotation手动识别伪迹span"
   ]
  },
  {
   "cell_type": "markdown",
   "metadata": {},
   "source": [
    "# Channel location"
   ]
  },
  {
   "cell_type": "code",
   "execution_count": null,
   "metadata": {},
   "outputs": [],
   "source": [
    "\"\"\"\n",
    "电极位置配置：读取电极坐标文件\n",
    "坐标位置在data.info的chs和dig\n",
    "\"\"\"\n",
    "montage = mne.channels.read_custom_montage('standard-10-5-cap385.elp')\n",
    "data.set_montage(montage)"
   ]
  },
  {
   "cell_type": "code",
   "execution_count": null,
   "metadata": {},
   "outputs": [],
   "source": [
    "\"\"\"\n",
    "电极位置配置：MNE内置模板\n",
    "\"\"\"\n",
    "montage = mne.channels.make_standard_montage('standard_1020')\n",
    "data.set_montage(montage)\n",
    "# 或合并写\n",
    "# data_1020 = data.copy().set_montage('standard_1020')"
   ]
  },
  {
   "cell_type": "code",
   "execution_count": null,
   "metadata": {},
   "outputs": [],
   "source": [
    "# 绘制电极位置\n",
    "# data.plot_sensors()\n",
    "# plt.show()\n",
    "# 或同时画2D和3D\n",
    "# fig = plt.figure()\n",
    "# ax2d = fig.add_subplot(121)\n",
    "# ax3d = fig.add_subplot(122, projection='3d')\n",
    "# data.plot_sensors(ch_type='eeg', axes=ax2d)\n",
    "# data.plot_sensors(ch_type='eeg', axes=ax3d, kind='3d')\n",
    "# ax3d.view_init(azim=70, elev=15)"
   ]
  },
  {
   "cell_type": "code",
   "execution_count": null,
   "metadata": {},
   "outputs": [],
   "source": [
    "\"\"\"\n",
    "绘制通道位置图，并对应位置上显示通道名称\n",
    "\"\"\"\n",
    "# layout_from_data = mne.channels.make_eeg_layout(data.info)\n",
    "# #或 layout_from_data =mne.channels.find_layout(data.info, ch_type='eeg')\n",
    "# layout_from_data.plot()\n",
    "# plt.show()"
   ]
  },
  {
   "cell_type": "markdown",
   "metadata": {},
   "source": [
    "# Bad channels"
   ]
  },
  {
   "cell_type": "markdown",
   "metadata": {},
   "source": [
    "1. 标记坏导"
   ]
  },
  {
   "cell_type": "code",
   "execution_count": null,
   "metadata": {},
   "outputs": [],
   "source": [
    "from copy import deepcopy\n",
    "\n",
    "# original_bads = deepcopy(data.info['bads'])\n",
    "data.info['bads'].append('Fpz')               # add a single channel\n",
    "# OR\n",
    "# data.info['bads'] = ['MEG 2443']\n",
    "# data.info['bads'].extend(['Fpz', 'Oz'])  # add a list of channels\n",
    "# bad_chan = data.info['bads'].pop(-1)  # remove the last entry in the list\n",
    "# data.info['bads'] = original_bads     # change the whole list at once\n",
    "\n",
    "# 或通过data.plot画图直接在图上点击坏导，数据‘bads’会自动更新坏导信息\n",
    "# data.plot(block=True)#pause the script while the plot is open, giving you time to mark bad channels\n",
    "# plt.show()"
   ]
  },
  {
   "cell_type": "code",
   "execution_count": null,
   "metadata": {},
   "outputs": [],
   "source": [
    "# data2 = data.copy()\n",
    "# data2.info['bads'] = []\n",
    "# events = mne.events_from_annotations(data2)\n",
    "# epochs = mne.Epochs(data2, events = events)['2'].average().plot()"
   ]
  },
  {
   "cell_type": "markdown",
   "metadata": {},
   "source": [
    "2. Interpolation（插值法）：spherical spline method"
   ]
  },
  {
   "cell_type": "code",
   "execution_count": null,
   "metadata": {
    "scrolled": true
   },
   "outputs": [],
   "source": [
    "data.load_data()\n",
    "eeg_data = data.pick_types(eeg=True, eog=False, exclude=[])\n",
    "eeg_data_interp = eeg_data.interpolate_bads()#reset_bads : If True, remove the bads from info."
   ]
  },
  {
   "cell_type": "markdown",
   "metadata": {},
   "source": [
    "# Resampling"
   ]
  },
  {
   "cell_type": "code",
   "execution_count": null,
   "metadata": {},
   "outputs": [],
   "source": [
    "data_downsampled = eeg_data_interp.resample(sfreq=250)"
   ]
  },
  {
   "cell_type": "markdown",
   "metadata": {},
   "source": [
    "# Filtering"
   ]
  },
  {
   "cell_type": "markdown",
   "metadata": {},
   "source": [
    "1. Highpass/Lowpass/Bandpass filter"
   ]
  },
  {
   "cell_type": "code",
   "execution_count": null,
   "metadata": {},
   "outputs": [],
   "source": [
    "# data_highpass = data_downsampled.filter(l_freq=0.1, h_freq=None)#0.1Hz高通，去除慢波漂移伪迹\n",
    "# data_lowpass = data_downsampled.filter(h_freq=35, l_freq=None)#35Hz低通\n",
    "data_bandpass = data_downsampled.filter(l_freq=0.1, h_freq=35)"
   ]
  },
  {
   "cell_type": "markdown",
   "metadata": {},
   "source": [
    "2. Notch filter"
   ]
  },
  {
   "cell_type": "code",
   "execution_count": null,
   "metadata": {},
   "outputs": [],
   "source": [
    "data_notch = data_bandpass.notch_filter(freqs=50)"
   ]
  },
  {
   "cell_type": "markdown",
   "metadata": {},
   "source": [
    "# Reference"
   ]
  },
  {
   "cell_type": "code",
   "execution_count": null,
   "metadata": {},
   "outputs": [],
   "source": [
    "# use a single channel reference (left earlobe or others)\n",
    "# data_notch.set_eeg_reference(ref_channels=['A1'])\n",
    "\n",
    "# use average of mastoid channels as reference\n",
    "data_mastoid_ref = data_notch.set_eeg_reference(ref_channels=['M1', 'M2'])#默认average，还可选'REST'\n",
    "# data_avg_ref = data_notch.set_eeg_reference(ref_channels='average',projection=True)\n",
    "'''\n",
    "If ``projection=True``, the average reference is\n",
    "    added as a projection and is not applied to the data (it can be\n",
    "    applied afterwards with the ``apply_proj`` method). If\n",
    "    ``projection=False``, the average reference is directly applied to\n",
    "    the data. If ``ref_channels`` is not ``'average'``, ``projection``\n",
    "    must be set to ``False``\n",
    "'''"
   ]
  },
  {
   "cell_type": "markdown",
   "metadata": {},
   "source": [
    "若要先恢复线上参考电极"
   ]
  },
  {
   "cell_type": "code",
   "execution_count": null,
   "metadata": {},
   "outputs": [],
   "source": [
    "# add new reference channel (all zero)\n",
    "data_new_ref = mne.add_reference_channels(data_notch, ref_channels=['CPz'])#默认copy，而不改变raw\n",
    "# set reference to `xxx`\n",
    "data_mastoid_ref = data_new_ref.set_eeg_reference(ref_channels=['M1', 'M2'])"
   ]
  },
  {
   "cell_type": "markdown",
   "metadata": {},
   "source": [
    "# ICA"
   ]
  },
  {
   "cell_type": "code",
   "execution_count": null,
   "metadata": {},
   "outputs": [],
   "source": [
    "from mne.preprocessing import (ICA, create_eog_epochs, create_ecg_epochs,\n",
    "                               corrmap)"
   ]
  },
  {
   "cell_type": "markdown",
   "metadata": {},
   "source": [
    "## 1. Fitting and plotting the ICA solution"
   ]
  },
  {
   "cell_type": "code",
   "execution_count": null,
   "metadata": {},
   "outputs": [],
   "source": [
    "ica = ICA(n_components=60, max_pca_components=60,random_state=97)\n",
    "ica.fit(data_mastoid_ref)"
   ]
  },
  {
   "cell_type": "code",
   "execution_count": null,
   "metadata": {},
   "outputs": [],
   "source": [
    "data.load_data()\n",
    "ica.plot_sources(data)\n",
    "plt.show()"
   ]
  },
  {
   "cell_type": "code",
   "execution_count": null,
   "metadata": {},
   "outputs": [],
   "source": [
    "ica.plot_components(inst=data)\n",
    "plt.show()"
   ]
  },
  {
   "cell_type": "code",
   "execution_count": null,
   "metadata": {},
   "outputs": [],
   "source": [
    "# blinks\n",
    "ica.plot_overlay(data, exclude=[1], picks='eeg')"
   ]
  },
  {
   "cell_type": "code",
   "execution_count": null,
   "metadata": {},
   "outputs": [],
   "source": [
    "ica.plot_properties(data, picks=[0, 1])"
   ]
  },
  {
   "cell_type": "markdown",
   "metadata": {},
   "source": [
    "## Selecting ICA components manually"
   ]
  },
  {
   "cell_type": "code",
   "execution_count": null,
   "metadata": {
    "scrolled": true
   },
   "outputs": [],
   "source": [
    "ica.exclude = [2]  # indices chosen based on various plots above\n",
    "\n",
    "# ica.apply() changes the Raw object in-place, so let's make a copy first:\n",
    "reconst_data = data_mastoid_ref.copy()\n",
    "ica.apply(reconst_data)"
   ]
  },
  {
   "cell_type": "code",
   "execution_count": null,
   "metadata": {},
   "outputs": [],
   "source": [
    "# 对比去眼电前后\n",
    "data_mastoid_ref.plot()\n",
    "event_dict.plot()\n",
    "plt.show()"
   ]
  },
  {
   "cell_type": "markdown",
   "metadata": {},
   "source": [
    "# Events"
   ]
  },
  {
   "cell_type": "code",
   "execution_count": null,
   "metadata": {},
   "outputs": [],
   "source": [
    "events, event_id = mne.events_from_annotations(data)"
   ]
  },
  {
   "cell_type": "code",
   "execution_count": null,
   "metadata": {},
   "outputs": [],
   "source": [
    "events_pick = mne.pick_events(events, exclude=[1,6,7,8])"
   ]
  },
  {
   "cell_type": "markdown",
   "metadata": {},
   "source": [
    "Mapping Event IDs to trial descriptors"
   ]
  },
  {
   "cell_type": "code",
   "execution_count": null,
   "metadata": {},
   "outputs": [],
   "source": [
    "event_dict = {'face/up': 2, 'chair/up': 3, 'face/down': 4,'chair/down': 5}"
   ]
  },
  {
   "cell_type": "markdown",
   "metadata": {},
   "source": [
    "# Epoch"
   ]
  },
  {
   "cell_type": "markdown",
   "metadata": {},
   "source": [
    "epoch数据结构：NumPy array (n_epochs, n_channels, n_times)"
   ]
  },
  {
   "cell_type": "markdown",
   "metadata": {},
   "source": [
    "## 1. Creating Epoched data"
   ]
  },
  {
   "cell_type": "code",
   "execution_count": null,
   "metadata": {
    "scrolled": true
   },
   "outputs": [],
   "source": [
    "# epochs = mne.Epochs(reconst_data, events_pick, event_id=event_dict, \n",
    "#                     tmin=-0.2, tmax=0.8, preload=True)#baseline correction was automatically applied "
   ]
  },
  {
   "cell_type": "code",
   "execution_count": null,
   "metadata": {},
   "outputs": [],
   "source": [
    "reject.update({'eog': 150e-6})\n",
    "epochs.drop_bad(reject=reject)# Rejecting Epochs based on channel amplitude\n",
    "reject_criteria = dict(eeg=150e-6)#can play around with this\n",
    "flat_criteria = dict(eeg=1e-6)\n",
    "epochs = mne.Epochs(reconst_data, events_pick, event_id=event_dict,\n",
    "                    tmin=-0.2, tmax=0.8, \n",
    "                    reject=reject_criteria, flat=flat_criteria,\n",
    "                    reject_by_annotation=False, preload=True)\n",
    "# epochs.plot_drop_log()\n",
    "# plt.show()"
   ]
  },
  {
   "cell_type": "code",
   "execution_count": null,
   "metadata": {},
   "outputs": [],
   "source": [
    "# # Reject bad epochs during configuration\n",
    "# reject = dict(eeg=100e-6)\n",
    "# epochs = mne.Epochs(data_mastoid_ref, events_pick, event_id=event_dict, reject=reject, \n",
    "#                     tmin=-0.2, tmax=0.8, preload=True)#baseline correction was automatically applied \n",
    "\n",
    "# # You can also reject after constructing epochs\n",
    "# reject.update({'eeg': 80e-6})\n",
    "# epochs.drop_bad(reject=reject)\n",
    "\n",
    "# Check & reject epoch manually\n",
    "# fig = epochs.plot(picks=['eeg'], scalings=dict(eeg=100e-6), n_epochs=2, n_channels=63, block=True)\n",
    "# plt.show()"
   ]
  },
  {
   "cell_type": "markdown",
   "metadata": {},
   "source": [
    "## Autoreject"
   ]
  },
  {
   "cell_type": "markdown",
   "metadata": {},
   "source": [
    "Autoreject (global) can compute the rejection dictionary automatically"
   ]
  },
  {
   "cell_type": "code",
   "execution_count": null,
   "metadata": {},
   "outputs": [],
   "source": [
    "from autoreject import get_rejection_threshold  # noqa\n",
    "reject = get_rejection_threshold(epochs)\n",
    "print(reject)"
   ]
  },
  {
   "cell_type": "markdown",
   "metadata": {},
   "source": [
    "## 2. Subselecting epochs"
   ]
  },
  {
   "cell_type": "code",
   "execution_count": null,
   "metadata": {
    "scrolled": false
   },
   "outputs": [],
   "source": [
    "face_epoch = epochs['face']\n",
    "chair_epoch = epochs['chair']"
   ]
  },
  {
   "cell_type": "code",
   "execution_count": null,
   "metadata": {},
   "outputs": [],
   "source": [
    "#Selecting epochs by index\n",
    "# print(epochs[:10])    # epochs 0-9\n",
    "# print(epochs[1:8:2])  # epochs 1, 3, 5, 7\n",
    "\n",
    "# print(epochs['face'][:4])            # first 4 \"face\" epochs\n",
    "# print(epochs['face'][[0, 1, 2, 3]])  # same as previous line\n",
    "\n",
    "# 截取epoch\n",
    "# shorter_epochs = epochs.copy.crop(tmin=-0.1, tmax=0.1, include_tmax=True)"
   ]
  },
  {
   "cell_type": "code",
   "execution_count": null,
   "metadata": {},
   "outputs": [],
   "source": [
    "# Converting an Epochs object to a DataFrame\n",
    "df = epochs.to_data_frame()\n",
    "df.iloc[:10, :10]"
   ]
  },
  {
   "cell_type": "code",
   "execution_count": null,
   "metadata": {},
   "outputs": [],
   "source": [
    "# Scaling time and channel values\n",
    "df = epochs.to_data_frame(time_format=None,\n",
    "                          scalings=dict(eeg=1, mag=1, grad=1))\n",
    "df.iloc[:5, :10]"
   ]
  },
  {
   "cell_type": "code",
   "execution_count": null,
   "metadata": {},
   "outputs": [],
   "source": [
    "# Setting the index\n",
    "df = epochs.to_data_frame(index=['condition', 'epoch'],\n",
    "                          time_format=None)\n",
    "df.iloc[:5, :10]"
   ]
  },
  {
   "cell_type": "code",
   "execution_count": null,
   "metadata": {},
   "outputs": [],
   "source": [
    "long_df = epochs.to_data_frame(time_format=None, index='condition',\n",
    "                               long_format=True)\n",
    "long_df.head()"
   ]
  },
  {
   "cell_type": "code",
   "execution_count": null,
   "metadata": {},
   "outputs": [],
   "source": [
    "import seaborn as sns\n",
    "\n",
    "channels = ['P8', 'Fp1']\n",
    "data = long_df.loc['face/up'].query('channel in @channels')\n",
    "# convert channel column (CategoryDtype → string; for a nicer-looking legend)\n",
    "data['channel'] = data['channel'].astype(str)\n",
    "sns.lineplot(x='time', y='value', hue='channel', data=data)"
   ]
  },
  {
   "cell_type": "code",
   "execution_count": null,
   "metadata": {},
   "outputs": [],
   "source": [
    "# saving:文件名必须以-epo or _epo结尾\n",
    "epochs.save('clean-epoch-epo.fif', overwrite=True)"
   ]
  },
  {
   "cell_type": "markdown",
   "metadata": {},
   "source": [
    "# ERP Analysis"
   ]
  },
  {
   "cell_type": "code",
   "execution_count": null,
   "metadata": {},
   "outputs": [],
   "source": [
    "epochs.average() #返回evoke，值为平均\n",
    "epochs.standard_error()#返回evoke，值为std"
   ]
  }
 ],
 "metadata": {
  "kernelspec": {
   "display_name": "Python 3 (ipykernel)",
   "language": "python",
   "name": "python3"
  },
  "language_info": {
   "codemirror_mode": {
    "name": "ipython",
    "version": 3
   },
   "file_extension": ".py",
   "mimetype": "text/x-python",
   "name": "python",
   "nbconvert_exporter": "python",
   "pygments_lexer": "ipython3",
   "version": "3.9.4"
  }
 },
 "nbformat": 4,
 "nbformat_minor": 2
}
