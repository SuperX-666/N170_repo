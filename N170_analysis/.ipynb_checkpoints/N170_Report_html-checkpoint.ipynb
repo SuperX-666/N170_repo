{
 "cells": [
  {
   "cell_type": "markdown",
   "metadata": {},
   "source": [
    "# MNE report"
   ]
  },
  {
   "cell_type": "code",
   "execution_count": 1,
   "metadata": {},
   "outputs": [
    {
     "name": "stdout",
     "output_type": "stream",
     "text": [
      "Reading raw_data\\n170_data.fdt\n"
     ]
    },
    {
     "name": "stderr",
     "output_type": "stream",
     "text": [
      "<ipython-input-1-5df9133bfe64>:13: RuntimeWarning: Limited 1 annotation(s) that were expanding outside the data range.\n",
      "  raw = mne.io.read_raw_eeglab(data_file, eog = 'auto')\n",
      "<ipython-input-1-5df9133bfe64>:13: RuntimeWarning: The data contains 'boundary' events, indicating data discontinuities. Be cautious of filtering and epoching around these events.\n",
      "  raw = mne.io.read_raw_eeglab(data_file, eog = 'auto')\n"
     ]
    },
    {
     "data": {
      "text/plain": [
       "<RawEEGLAB | n170_data.fdt, 64 x 193802 (387.6 s), ~90 kB, data not loaded>"
      ]
     },
     "execution_count": 1,
     "metadata": {},
     "output_type": "execute_result"
    }
   ],
   "source": [
    "from mne.report import Report\n",
    "\n",
    "%matplotlib inline\n",
    "\n",
    "import mne\n",
    "import os\n",
    "import numpy as np\n",
    "import matplotlib.pyplot as plt\n",
    "\n",
    "data_folder = 'raw_data'\n",
    "dataFile = 'n170_data.set'\n",
    "data_file = os.path.join(data_folder,dataFile)\n",
    "raw = mne.io.read_raw_eeglab(data_file, eog = 'auto')\n",
    "\n",
    "montage = mne.channels.read_custom_montage('standard-10-5-cap385.elp')\n",
    "raw.set_montage(montage)"
   ]
  },
  {
   "cell_type": "code",
   "execution_count": null,
   "metadata": {},
   "outputs": [],
   "source": [
    "raw1 = raw.copy().crop(0, 20)\n",
    "raw2 = raw.copy().crop(20, 40)\n",
    "raw3 = raw.copy().crop(40, 60)\n",
    "\n",
    "raw1.save(data_folder + '/sub-01_raw.fif', overwrite=True)\n",
    "raw2.save(data_folder + '/sub-02_raw.fif', overwrite=True)\n",
    "raw3.save(data_folder + '/sub-03_raw.fif', overwrite=True)"
   ]
  },
  {
   "cell_type": "code",
   "execution_count": 2,
   "metadata": {},
   "outputs": [
    {
     "name": "stdout",
     "output_type": "stream",
     "text": [
      "Used Annotations descriptions: ['0, Impedance', '11', '12', '13', '14', '3', '4', 'boundary']\n"
     ]
    }
   ],
   "source": [
    "events, event_id = mne.events_from_annotations(raw)\n",
    "events_pick = mne.pick_events(events, exclude=[1,6,7,8])\n",
    "event_dict = {'face/up': 2, 'chair/up': 3, 'face/down': 4,'chair/down': 5}"
   ]
  },
  {
   "cell_type": "code",
   "execution_count": null,
   "metadata": {},
   "outputs": [],
   "source": [
    "def raw_to_evoked(raw_fname, tmin=-0.1, tmax=0.5):\n",
    "    \n",
    "    raw = mne.io.read_raw_eeglab(data_file, eog = 'auto', preload=True)\n",
    "    \n",
    "    montage = mne.channels.read_custom_montage('standard-10-5-cap385.elp')\n",
    "    raw.set_montage(montage)\n",
    "    \n",
    "    fig1 = raw.plot();\n",
    "    raw.filter(0, 40.)\n",
    "    \n",
    "    epochs = mne.Epochs(raw, events_pick, event_dict, tmin, tmax)\n",
    "    fig2 = epochs.plot();\n",
    "    \n",
    "    evoked_l = epochs['face'].average();\n",
    "    fig3 = evoked_l.plot_topomap()\n",
    "    fig4 = evoked_l.plot();\n",
    "    \n",
    "    return [fig1, fig2, fig3, fig4]"
   ]
  },
  {
   "cell_type": "code",
   "execution_count": null,
   "metadata": {},
   "outputs": [],
   "source": [
    "%%capture\n",
    "figs = raw_to_evoked('sub-01_raw.fif')"
   ]
  },
  {
   "cell_type": "code",
   "execution_count": null,
   "metadata": {},
   "outputs": [],
   "source": [
    "rep = Report()"
   ]
  },
  {
   "cell_type": "code",
   "execution_count": null,
   "metadata": {},
   "outputs": [],
   "source": [
    "captions = ['Raw', 'Epochs', 'Topomap', 'Butterfly']\n",
    "rep.add_figs_to_section(figs, captions=captions)\n",
    "rep.save('report_raw_to_evoked.html')"
   ]
  },
  {
   "cell_type": "code",
   "execution_count": null,
   "metadata": {},
   "outputs": [],
   "source": [
    "%%capture\n",
    "rep = Report()\n",
    "for idx, r in enumerate(['sub-01_raw.fif', 'sub-02_raw.fif', 'sub-03_raw.fif']):\n",
    "    figs = raw_to_evoked(r)\n",
    "    rep.add_figs_to_section(figs, captions=captions, section='Subject %02d' % idx)\n",
    "rep.save('report_raw_to_evoked.html', overwrite=True)"
   ]
  },
  {
   "cell_type": "markdown",
   "metadata": {},
   "source": [
    "# Custom HTML"
   ]
  },
  {
   "cell_type": "code",
   "execution_count": null,
   "metadata": {},
   "outputs": [],
   "source": [
    "html = \"\"\"\n",
    "<table class=\"table table-hover\">\n",
    "   <tr>\n",
    "       <th>Meas time range</th>\n",
    "       <th>Sampling freq</th>\n",
    "   </tr>\n",
    "   <tr>\n",
    "       <td> %0.2f to %0.2f </td>\n",
    "       <td> %0.2f </td>\n",
    "   </tr>\n",
    "</table>\n",
    "\"\"\""
   ]
  },
  {
   "cell_type": "code",
   "execution_count": null,
   "metadata": {},
   "outputs": [],
   "source": [
    "rep.add_htmls_to_section(html % (raw.times[0], raw.times[-1], raw.info['sfreq']), captions='Info table')\n",
    "rep.save('report_raw_to_evoked.html', overwrite=True)"
   ]
  },
  {
   "cell_type": "markdown",
   "metadata": {},
   "source": [
    "# Custom sliders"
   ]
  },
  {
   "cell_type": "code",
   "execution_count": 3,
   "metadata": {},
   "outputs": [
    {
     "name": "stdout",
     "output_type": "stream",
     "text": [
      "Not setting metadata\n",
      "Not setting metadata\n",
      "160 matching events found\n",
      "Applying baseline correction (mode: mean)\n",
      "0 projection items activated\n",
      "Loading data for 160 events and 501 original time points ...\n",
      "0 bad epochs dropped\n"
     ]
    }
   ],
   "source": [
    "epochs = mne.Epochs(raw, events_pick, event_id=event_dict, \n",
    "                    tmin=-0.2, tmax=0.8, preload=True)#baseline correction was automatically applied "
   ]
  },
  {
   "cell_type": "code",
   "execution_count": 4,
   "metadata": {},
   "outputs": [],
   "source": [
    "face_evoked = epochs['face'].average()"
   ]
  },
  {
   "cell_type": "code",
   "execution_count": 7,
   "metadata": {},
   "outputs": [
    {
     "name": "stdout",
     "output_type": "stream",
     "text": [
      "Embedding : jquery.js\n",
      "Embedding : jquery-ui.min.js\n",
      "Embedding : bootstrap.min.js\n",
      "Embedding : jquery-ui.min.css\n",
      "Embedding : bootstrap.min.css\n",
      "Report already exists at location H:\\MNE\\my_project\\N170_data\\report_slider.html. Overwrite it (y/[n])? y\n",
      "Saving report to location H:\\MNE\\my_project\\N170_data\\report_slider.html\n",
      "Rendering : Table of Contents\n",
      "Evoked Response\n",
      " ... Slider\n"
     ]
    },
    {
     "data": {
      "text/plain": [
       "'H:\\\\MNE\\\\my_project\\\\N170_data\\\\report_slider.html'"
      ]
     },
     "execution_count": 7,
     "metadata": {},
     "output_type": "execute_result"
    }
   ],
   "source": [
    "rep = Report()\n",
    "figs = list()\n",
    "times = face_evoked.times[::4]\n",
    "for time in times:\n",
    "    figs.append(face_evoked.plot_topomap(time, res=100, show=False))\n",
    "    plt.close(figs[-1])\n",
    "rep.add_slider_to_section(figs, times, 'Evoked Response')\n",
    "rep.save('report_slider.html')"
   ]
  }
 ],
 "metadata": {
  "kernelspec": {
   "display_name": "Python 3",
   "language": "python",
   "name": "python3"
  },
  "language_info": {
   "codemirror_mode": {
    "name": "ipython",
    "version": 3
   },
   "file_extension": ".py",
   "mimetype": "text/x-python",
   "name": "python",
   "nbconvert_exporter": "python",
   "pygments_lexer": "ipython3",
   "version": "3.7.6"
  }
 },
 "nbformat": 4,
 "nbformat_minor": 2
}
