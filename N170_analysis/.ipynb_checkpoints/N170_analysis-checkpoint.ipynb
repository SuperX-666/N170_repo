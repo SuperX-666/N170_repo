{
 "cells": [
  {
   "cell_type": "code",
   "execution_count": null,
   "metadata": {
    "scrolled": true
   },
   "outputs": [],
   "source": [
    "import os\n",
    "import numpy as np\n",
    "import matplotlib.pyplot as plt\n",
    "import mne"
   ]
  },
  {
   "cell_type": "markdown",
   "metadata": {},
   "source": [
    "# Preprocessing"
   ]
  },
  {
   "cell_type": "markdown",
   "metadata": {},
   "source": [
    "1. Loading data"
   ]
  },
  {
   "cell_type": "code",
   "execution_count": null,
   "metadata": {},
   "outputs": [],
   "source": [
    "data_folder = 'raw_data'\n",
    "dataFile = 'n170_data.set'\n",
    "data_file = os.path.join(data_folder,dataFile)\n",
    "data = mne.io.read_raw_eeglab(data_file, eog = 'auto')"
   ]
  },
  {
   "cell_type": "code",
   "execution_count": null,
   "metadata": {},
   "outputs": [],
   "source": [
    "data.drop_channels('EOG')"
   ]
  },
  {
   "cell_type": "markdown",
   "metadata": {},
   "source": [
    "2.Channel location"
   ]
  },
  {
   "cell_type": "code",
   "execution_count": null,
   "metadata": {},
   "outputs": [],
   "source": [
    "montage = mne.channels.read_custom_montage('standard-10-5-cap385.elp')\n",
    "data.set_montage(montage)"
   ]
  },
  {
   "cell_type": "markdown",
   "metadata": {},
   "source": [
    "3. Resampling"
   ]
  },
  {
   "cell_type": "code",
   "execution_count": null,
   "metadata": {},
   "outputs": [],
   "source": [
    "data_downsampled = data.resample(sfreq=250)"
   ]
  },
  {
   "cell_type": "markdown",
   "metadata": {},
   "source": [
    "4. Filtering"
   ]
  },
  {
   "cell_type": "code",
   "execution_count": null,
   "metadata": {},
   "outputs": [],
   "source": [
    "data_bandpass = data_downsampled.filter(l_freq=1, h_freq=35)"
   ]
  },
  {
   "cell_type": "code",
   "execution_count": null,
   "metadata": {},
   "outputs": [],
   "source": [
    "# check data manually\n",
    "# fig = data_bandpass.plot(duration=5, n_channels=63, scalings=dict(eeg=80e-6))\n",
    "# plt.show()"
   ]
  },
  {
   "cell_type": "markdown",
   "metadata": {},
   "source": [
    "5. Reference"
   ]
  },
  {
   "cell_type": "code",
   "execution_count": null,
   "metadata": {},
   "outputs": [],
   "source": [
    "data_mastoid_ref = data_bandpass.set_eeg_reference(ref_channels=['M1', 'M2'], ch_type='eeg')"
   ]
  },
  {
   "cell_type": "markdown",
   "metadata": {},
   "source": [
    "6. Epoch"
   ]
  },
  {
   "cell_type": "code",
   "execution_count": null,
   "metadata": {
    "scrolled": false
   },
   "outputs": [],
   "source": [
    "events, event_id = mne.events_from_annotations(data)\n",
    "events_pick = mne.pick_events(events, exclude=[1,6,7,8])\n",
    "# Mapping Event IDs to trial descriptors\n",
    "event_dict = {'face/up': 2, 'chair/up': 3, 'face/down': 4,'chair/down': 5}"
   ]
  },
  {
   "cell_type": "code",
   "execution_count": null,
   "metadata": {},
   "outputs": [],
   "source": [
    "# Creating Epoched data\n",
    "epochs = mne.Epochs(data_mastoid_ref, events_pick, event_id=event_dict, \n",
    "                    tmin=-0.2, tmax=0.8, preload=True)#baseline correction was automatically applied "
   ]
  },
  {
   "cell_type": "code",
   "execution_count": null,
   "metadata": {
    "scrolled": true
   },
   "outputs": [],
   "source": [
    "# Check & reject epoch manually\n",
    "# fig = epochs.plot(picks=['eeg'], scalings=dict(eeg=100e-6), n_epochs=2, n_channels=63, block=True)\n",
    "# plt.show()"
   ]
  },
  {
   "cell_type": "markdown",
   "metadata": {},
   "source": [
    "7.ICA"
   ]
  },
  {
   "cell_type": "code",
   "execution_count": null,
   "metadata": {},
   "outputs": [],
   "source": [
    "from mne.preprocessing import (ICA, corrmap)"
   ]
  },
  {
   "cell_type": "code",
   "execution_count": null,
   "metadata": {
    "scrolled": true
   },
   "outputs": [],
   "source": [
    "ica = ICA(n_components=61, max_pca_components=61,random_state=None, method='infomax')\n",
    "ica.fit(epochs)"
   ]
  },
  {
   "cell_type": "code",
   "execution_count": null,
   "metadata": {},
   "outputs": [],
   "source": [
    "# epochs.load_data()\n",
    "ica.plot_sources(epochs, stop=3)\n",
    "plt.show()"
   ]
  },
  {
   "cell_type": "code",
   "execution_count": null,
   "metadata": {},
   "outputs": [],
   "source": [
    "ica.plot_components(inst=epochs)\n",
    "plt.show()"
   ]
  },
  {
   "cell_type": "code",
   "execution_count": null,
   "metadata": {},
   "outputs": [],
   "source": [
    "# Selecting ICA components manually\n",
    "ica.exclude = [2]  # indices chosen based on various plots above\n",
    "\n",
    "epoch_data = epochs.copy()\n",
    "ica.apply(epoch_data)"
   ]
  },
  {
   "cell_type": "code",
   "execution_count": null,
   "metadata": {},
   "outputs": [],
   "source": [
    "# ica.plot_properties(epochs, picks=ica.exclude)"
   ]
  },
  {
   "cell_type": "markdown",
   "metadata": {},
   "source": [
    "8. Reject bad epochs"
   ]
  },
  {
   "cell_type": "code",
   "execution_count": null,
   "metadata": {},
   "outputs": [],
   "source": [
    "fig = epoch_data.plot(picks=['eeg'], scalings=dict(eeg=100e-6), n_epochs=2, n_channels=63, block=True)\n",
    "plt.show()"
   ]
  },
  {
   "cell_type": "markdown",
   "metadata": {},
   "source": [
    "# ERP analysis"
   ]
  },
  {
   "cell_type": "code",
   "execution_count": null,
   "metadata": {},
   "outputs": [],
   "source": [
    "# 保证两个条件使用等量的trial数（有问题，待调整）\n",
    "epoch_data.equalize_event_counts(['face','chair'])\n",
    "\n",
    "face_evoked = epoch_data['face'].average()\n",
    "chair_evoked = epoch_data['chair'].average()"
   ]
  },
  {
   "cell_type": "code",
   "execution_count": null,
   "metadata": {},
   "outputs": [],
   "source": [
    "# 保存 ERP 数据\n",
    "face_evoked.save('results/face_eeg-ave.fif')  # save evoked data to disk\n",
    "chair_evoked.save('results/chair_eeg-ave.fif')"
   ]
  },
  {
   "cell_type": "markdown",
   "metadata": {},
   "source": [
    "差异波"
   ]
  },
  {
   "cell_type": "code",
   "execution_count": null,
   "metadata": {},
   "outputs": [],
   "source": [
    "diff_evoked = mne.combine_evoked([face_evoked, chair_evoked], weights=[1,-1])\n",
    "# diff_evoked.plot(picks=['P8'])\n",
    "# plt.show()\n",
    "\n",
    "# OR\n",
    "# diff_data = face_evoked.data-chair_evoked.data"
   ]
  },
  {
   "cell_type": "markdown",
   "metadata": {},
   "source": [
    "Butterfly plot"
   ]
  },
  {
   "cell_type": "code",
   "execution_count": null,
   "metadata": {},
   "outputs": [],
   "source": [
    "# Butterfly plot\n",
    "fig = plt.figure()\n",
    "ax2 = fig.add_subplot(121)\n",
    "ax3 = fig.add_subplot(122)\n",
    "face_evoked.plot(gfp=True, spatial_colors=True, axes=ax2) #default exclude='bads'\n",
    "chair_evoked.plot(gfp=True, spatial_colors=True, axes=ax3)\n",
    "plt.show()"
   ]
  },
  {
   "cell_type": "code",
   "execution_count": null,
   "metadata": {},
   "outputs": [],
   "source": [
    "# Joint plot\n",
    "face_evoked.plot_joint(times=0.17)\n",
    "plt.show()"
   ]
  },
  {
   "cell_type": "markdown",
   "metadata": {},
   "source": [
    "Scalp maps"
   ]
  },
  {
   "cell_type": "code",
   "execution_count": null,
   "metadata": {},
   "outputs": [],
   "source": [
    "# scalp topographies\n",
    "# single time point\n",
    "fig=face_evoked.plot_topomap(ch_type='eeg', times=0.17, average=0.01, colorbar=True)#outlines='skirt'to see the topography stretched beyond the head circle\n",
    "fig.text(0.5, 0.05, 'average from 165-175 ms', ha='center')\n",
    "plt.show()"
   ]
  },
  {
   "cell_type": "code",
   "execution_count": null,
   "metadata": {},
   "outputs": [],
   "source": [
    "# scalp topographies\n",
    "# multiple time points\n",
    "times = np.arange(0.1, 0.3, 0.02)#间隔0.02s\n",
    "face_evoked.plot_topomap(ch_type='eeg', times=times, colorbar=True,\n",
    "                         ncols=5, nrows='auto')\n",
    "plt.show()"
   ]
  },
  {
   "cell_type": "markdown",
   "metadata": {},
   "source": [
    "ERP traces"
   ]
  },
  {
   "cell_type": "code",
   "execution_count": null,
   "metadata": {},
   "outputs": [],
   "source": [
    "# Comparing Evoked objects\n",
    "mne.viz.plot_compare_evokeds([face_evoked, chair_evoked], picks='P8', ylim=dict(eeg=[-20,20]))\n",
    "plt.show()"
   ]
  },
  {
   "cell_type": "code",
   "execution_count": null,
   "metadata": {},
   "outputs": [],
   "source": [
    "# Topographical subplots\n",
    "mne.viz.plot_compare_evokeds([face_evoked, chair_evoked], picks='eeg', axes='topo')\n",
    "# OR\n",
    "# mne.viz.plot_evoked_topo([face_evoked, chair_evoked])"
   ]
  },
  {
   "cell_type": "markdown",
   "metadata": {},
   "source": [
    "Peak detection"
   ]
  },
  {
   "cell_type": "code",
   "execution_count": null,
   "metadata": {},
   "outputs": [],
   "source": [
    "ch_max_name, latency, amplitude = face_evoked.get_peak(ch_type='eeg', tmin=0.15, tmax=0.2, mode='neg', return_amplitude=True)\n",
    "\n",
    "face_evoked.plot(picks=ch_max_name)\n",
    "plt.show()"
   ]
  }
 ],
 "metadata": {
  "kernelspec": {
   "display_name": "Python 3",
   "language": "python",
   "name": "python3"
  },
  "language_info": {
   "codemirror_mode": {
    "name": "ipython",
    "version": 3
   },
   "file_extension": ".py",
   "mimetype": "text/x-python",
   "name": "python",
   "nbconvert_exporter": "python",
   "pygments_lexer": "ipython3",
   "version": "3.7.6"
  }
 },
 "nbformat": 4,
 "nbformat_minor": 2
}
